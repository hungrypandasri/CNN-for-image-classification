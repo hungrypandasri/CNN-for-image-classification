{
 "cells": [
  {
   "cell_type": "markdown",
   "metadata": {
    "id": "QBYqfgf_OKx2"
   },
   "source": [
    "# **24-788: Intro to Deep Learning by Prof. Amir Barati Farimani**"
   ]
  },
  {
   "cell_type": "markdown",
   "metadata": {
    "id": "bbpkyxGqQSUU"
   },
   "source": [
    "## **Spring 2024 | HW 4: CIFAR-10 Classification via CNNs**\n",
    "\n",
    "For this assignment, you will follow the below steps:\n",
    "\n",
    "```\n",
    "1. First load and normalize the CIFAR-10 dataset.\n",
    "2. Next, define your CNN model, loss function and optimizer.\n",
    "3. Finally, once you have defined everything correctly, you can begin training your model.\n",
    "4. For evaluation, you will need to test the model on test data and report your test accuracy.\n",
    "5. Plot the model train and validation: loss and accuracy curves\n",
    "```\n",
    "\n",
    "Please referto the tutorial from PyTorch's official documentation: https://pytorch.org/tutorials/beginner/blitz/cifar10_tutorial.html to get familiar with PyTorch, especially the data loading part. If you are new to PyTorch, it is recommended to follow the structure in this tutorial to build your model, loss function and training function. For this HW, $20$ out of $25$ points are graded on your code and report. And remaining $05$ points on the performance of your model. Tentative cutoffs for test accuracy:\n",
    "1. $>$ $90\\%$: $5$ points ($+10$ bonus points)\n",
    "2. $>$ $85\\%$: $5$ points ($+5$ bonus points)\n",
    "3. $>$ $80\\%$: $5$ points\n",
    "4. $>$ $75\\%$: $3$ points\n",
    "5. $≤$ $75\\%$: $0$ points\n",
    "\n",
    "**NOTE:**\n",
    "1. The below starter notebook follows the official PyTorch Documentation. You are free to make any changes to the sample starter notebook provided below.\n",
    "2. You are recommended to use GPU. If you are training on GPU, please transfer your data and model to GPU Device: https://pytorch.org/tutorials/beginner/blitz/cifar10_tutorial.html#training-on-gpu)"
   ]
  },
  {
   "cell_type": "code",
   "execution_count": null,
   "metadata": {
    "id": "GAGt0Bz7OKkZ"
   },
   "outputs": [],
   "source": [
    "# Import required libraries\n",
    "import numpy as np\n",
    "import torch\n",
    "import torch.nn as nn\n",
    "import torch.nn.functional as F\n",
    "import torchvision\n",
    "import torchvision.transforms as transforms\n",
    "import torch.optim as optim\n",
    "import matplotlib.pyplot as plt"
   ]
  },
  {
   "cell_type": "code",
   "execution_count": null,
   "metadata": {
    "id": "FzsFTmGflBNq"
   },
   "outputs": [],
   "source": [
    "# Use the below code to get your Final Test Accuracy. DO NOT EDIT (except for changing device if needed)\n",
    "def print_final_accuracy(model, testloader):\n",
    "    total = 0\n",
    "    correct = 0\n",
    "    # we need to send the data to the same device as the data, so determine the\n",
    "    # model's device\n",
    "    device = next(model.parameters()).device\n",
    "    with torch.no_grad():\n",
    "        for data in testloader:\n",
    "            images, labels = data\n",
    "            images = images.to(device)\n",
    "            labels = labels.to(device)\n",
    "            # calculate outputs by running images through the network\n",
    "            outputs = model(images)\n",
    "            # the class with the highest energy is what we choose as prediction\n",
    "            _, predicted = torch.max(outputs.data, 1)\n",
    "            total += labels.size(0)\n",
    "            correct += (predicted == labels).sum().item()\n",
    "    assert total == 10000, \"Incorrect testloader used. There should be 10,000 test images\"\n",
    "    print(f'Accuracy of the network on the 10000 test images: {100 * correct // total} %')"
   ]
  },
  {
   "cell_type": "code",
   "execution_count": null,
   "metadata": {
    "id": "Drn_K3w_OI_B"
   },
   "outputs": [],
   "source": [
    "class CNN(nn.Module):\n",
    "    def __init__(self):\n",
    "        super(CNN, self).__init__()\n",
    "        self.cnn1 = nn.Conv2d(in_channels= , out_channels= , kernel_size=  , stride=  , padding=  )\n",
    "        # TODO: Complete defining the init function of your CNN model\n",
    "\n",
    "\n",
    "\n",
    "\n",
    "    def forward(self, x):\n",
    "        out = self.cnn1(x)\n",
    "        # TODO: Complete defining your CNN model\n",
    "\n",
    "\n",
    "\n",
    "\n",
    "        return out"
   ]
  },
  {
   "cell_type": "code",
   "execution_count": null,
   "metadata": {
    "id": "8VNC3QI5R0ES"
   },
   "outputs": [],
   "source": [
    "def main():\n",
    "    # TODO: load and transform dataset\n",
    "    train_transform   =  # TODO\n",
    "    test_transform = #TODO\n",
    "    trainset    =  # TODO\n",
    "    trainloader =  # TODO\n",
    "    testset     =  # TODO\n",
    "    testloader  =  # TODO\n",
    "    classes = ('plane', 'car', 'bird', 'cat', 'deer', 'dog', 'frog', 'horse', 'ship', 'truck')\n",
    "\n",
    "    # TODO: Define your optimizer and criterion.\n",
    "    model = CNN()\n",
    "    criterion =    # TODO\n",
    "    optimizer =    # TODO\n",
    "    num_epoch =    # TODO\n",
    "\n",
    "    # TODO: store loss over epochs for plot\n",
    "\n",
    "\n",
    "\n",
    "\n",
    "    print(\"beginning training!\")\n",
    "    for epoch in range(num_epoch):  # loop over the dataset multiple times\n",
    "        running_loss = 0.0\n",
    "        for i, data in enumerate(trainloader, 0):\n",
    "            # get the inputs and labels; send to device (if using GPU)\n",
    "\n",
    "\n",
    "\n",
    "            # zero the parameter gradients\n",
    "\n",
    "\n",
    "\n",
    "            # forward + backward + optimize\n",
    "\n",
    "\n",
    "\n",
    "            # print statistics\n",
    "\n",
    "\n",
    "\n",
    "\n",
    "    # plot the loss vs epoch\n",
    "\n",
    "\n",
    "    # print final accuracy\n",
    "    print_final_accuracy(model, testloader)\n",
    "\n",
    "    # Print out the hyperparameters\n",
    "    # Dicuss details of how you found the hyperparameters (what experiments you did?) with a brief explanation\n",
    "    # Include it a markdown cell at the end of the assignment\n",
    "\n",
    "\n",
    "\n",
    "if __name__ == \"__main__\":\n",
    "  main()"
   ]
  }
 ],
 "metadata": {
  "accelerator": "GPU",
  "colab": {
   "gpuType": "T4",
   "provenance": [],
   "toc_visible": true
  },
  "kernelspec": {
   "display_name": "Python 3 (ipykernel)",
   "language": "python",
   "name": "python3"
  },
  "language_info": {
   "codemirror_mode": {
    "name": "ipython",
    "version": 3
   },
   "file_extension": ".py",
   "mimetype": "text/x-python",
   "name": "python",
   "nbconvert_exporter": "python",
   "pygments_lexer": "ipython3",
   "version": "3.11.5"
  }
 },
 "nbformat": 4,
 "nbformat_minor": 1
}
